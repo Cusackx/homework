{
 "cells": [
  {
   "cell_type": "code",
   "execution_count": 3,
   "metadata": {},
   "outputs": [
    {
     "name": "stdout",
     "output_type": "stream",
     "text": [
      "I found it!\n",
      "apple has  5 letters\n",
      "pear has  4 letters\n",
      "orange has  6 letters\n",
      "pinapple has  8 letters\n",
      "mandarin has  8 letters\n",
      "bannana has  7 letters\n",
      "kiwi has  4 letters\n",
      "[5, 4, 6, 8, 8, 7, 4]\n",
      "['apple', 'pear', 'orange', 'pinapple', 'mandarin', 'bannana', 'kiwi']\n"
     ]
    }
   ],
   "source": [
    "fruits=['apple', 'pear', 'orange', 'pinapple', 'mandarin']\n",
    "for fruit in fruits:\n",
    "    if fruit==\"apple\":\n",
    "        print(\"I found it!\")\n",
    "fruits.append('bannana')\n",
    "fruits.append( 'kiwi')\n",
    "fruitnum=[]\n",
    "for fruit in fruits:\n",
    "    fruitnum.append(len(fruit))\n",
    "    print(fruit, 'has ', len(fruit) , 'letters')\n",
    "print(fruitnum)\n",
    "print(fruits)"
   ]
  },
  {
   "cell_type": "code",
   "execution_count": 4,
   "metadata": {},
   "outputs": [
    {
     "name": "stdout",
     "output_type": "stream",
     "text": [
      "[4.5, 12.5]\n"
     ]
    }
   ],
   "source": [
    "def half_squared(list):\n",
    "    lists=[]\n",
    "    for a in list:\n",
    "        lists.append(a*a/2)\n",
    "    return lists\n",
    "print(half_squared([3,5]))"
   ]
  },
  {
   "cell_type": "code",
   "execution_count": 5,
   "metadata": {},
   "outputs": [
    {
     "name": "stdout",
     "output_type": "stream",
     "text": [
      "input score: 59\n",
      "C\n"
     ]
    }
   ],
   "source": [
    "score = int(input(\"input score: \"))\n",
    "if(score <= 100 and score >=90):\n",
    "    print('A')\n",
    "elif(score<=89 and score>=60):\n",
    "    print('B')\n",
    "elif (score <= 59 and score >= 0):\n",
    "    print('C')\n",
    "else:\n",
    "    print('error score')"
   ]
  },
  {
   "cell_type": "code",
   "execution_count": 6,
   "metadata": {},
   "outputs": [
    {
     "name": "stdout",
     "output_type": "stream",
     "text": [
      "(32, 22, 12)\n"
     ]
    }
   ],
   "source": [
    "def revSort(a,b,c):\n",
    "    list=[a,b,c]\n",
    "    list.sort()\n",
    "    return list[2],list[1],list[0]\n",
    "print(revSort(12,22,32))"
   ]
  },
  {
   "cell_type": "code",
   "execution_count": 7,
   "metadata": {},
   "outputs": [
    {
     "name": "stdout",
     "output_type": "stream",
     "text": [
      "1\n",
      "2\n",
      "3\n",
      "4\n",
      "5\n",
      "6\n"
     ]
    }
   ],
   "source": [
    "arrs = [[1,2,3],[4,5,6]]\n",
    "for arr in arrs:\n",
    "    for a in arr:\n",
    "        print(a)"
   ]
  },
  {
   "cell_type": "code",
   "execution_count": 9,
   "metadata": {},
   "outputs": [
    {
     "name": "stdout",
     "output_type": "stream",
     "text": [
      "1\n",
      "8\n",
      "17\n",
      "18\n",
      "26\n",
      "27\n"
     ]
    }
   ],
   "source": [
    "a = []\n",
    "b = []\n",
    "def f(x):\n",
    "    return x**3  #it is means 1^2 2^2 3^2 4^2\n",
    "i=1\n",
    "while (i < 101):\n",
    "    a.append(i)\n",
    "    i = i + 1\n",
    "for i in map(f,a):\n",
    "    b.append(i)\n",
    "for g in a:\n",
    "    h=len(str(b[g-1]))\n",
    "    i=0\n",
    "    num=0\n",
    "    while(i<h):\n",
    "        num=num+int(str(b[g-1])[i])\n",
    "        i=i+1\n",
    "    if (num==g):\n",
    "        print(g)"
   ]
  },
  {
   "cell_type": "code",
   "execution_count": 10,
   "metadata": {},
   "outputs": [
    {
     "name": "stdout",
     "output_type": "stream",
     "text": [
      "6\n",
      "10\n",
      "10\n",
      "6\n"
     ]
    }
   ],
   "source": [
    "import random\n",
    "x = random.randint(1,10)\n",
    "y = random.randint(1,10)\n",
    "print(x)\n",
    "print(y)\n",
    "a=x\n",
    "x=y\n",
    "y=a\n",
    "print(x)\n",
    "print(y)"
   ]
  },
  {
   "cell_type": "code",
   "execution_count": 11,
   "metadata": {},
   "outputs": [
    {
     "name": "stdout",
     "output_type": "stream",
     "text": [
      "   *   \n",
      "  ***  \n",
      " ***** \n",
      "*******\n",
      " ***** \n",
      "  ***  \n",
      "   *   \n"
     ]
    }
   ],
   "source": [
    "k=0\n",
    "for i in range(1,8):\n",
    "    if i<5:\n",
    "        print(('*'*(i*2-1)).center(7))\n",
    "    else:\n",
    "        print(('*'*(i-k*3)).center(7))\n",
    "        k=k+1"
   ]
  },
  {
   "cell_type": "code",
   "execution_count": 12,
   "metadata": {},
   "outputs": [
    {
     "name": "stdout",
     "output_type": "stream",
     "text": [
      "123456\n",
      "234561\n",
      "345612\n",
      "456123\n",
      "561234\n",
      "612345\n"
     ]
    }
   ],
   "source": [
    "for i in range(1,7):\n",
    "    for j in range(1,7):\n",
    "        print(i,end=\"\")\n",
    "        if i<6:\n",
    "            i=i+1\n",
    "        else:\n",
    "            i=1\n",
    "    print()"
   ]
  },
  {
   "cell_type": "code",
   "execution_count": 16,
   "metadata": {},
   "outputs": [
    {
     "name": "stdout",
     "output_type": "stream",
     "text": [
      "Charles\n",
      "Martina\n",
      "Michael\n",
      "Florence\n",
      "Eli\n"
     ]
    }
   ],
   "source": [
    "players = ['charles','martina','michael','florence','eli']\n",
    "for player in players:\n",
    "    print(player.title())"
   ]
  },
  {
   "cell_type": "code",
   "execution_count": null,
   "metadata": {},
   "outputs": [],
   "source": []
  }
 ],
 "metadata": {
  "kernelspec": {
   "display_name": "Python 3",
   "language": "python",
   "name": "python3"
  },
  "language_info": {
   "codemirror_mode": {
    "name": "ipython",
    "version": 3
   },
   "file_extension": ".py",
   "mimetype": "text/x-python",
   "name": "python",
   "nbconvert_exporter": "python",
   "pygments_lexer": "ipython3",
   "version": "3.6.5"
  }
 },
 "nbformat": 4,
 "nbformat_minor": 2
}
