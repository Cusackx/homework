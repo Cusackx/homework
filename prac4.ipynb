{
 "cells": [
  {
   "cell_type": "markdown",
   "metadata": {},
   "source": [
    "1.(1)Assume People(x):x is a people,Hair(x):x with black hair.\n",
    "    symbolization: People(x)⇒Hair(x)     False\n",
    "  (2)Assume Moon(x):x boarded the moon\n",
    "    symbolization:∃x(People(x)∧Moon(x))   True\n",
    "  (3)Assume Jupiter(x):x boarded the Jupiter\n",
    "    symbolization:∃x￢(People(x)∧Moon(x))  True\n",
    "  (4)Assume Studying(x):x is a student studying in the US.\n",
    "    symbolization:￢x(People(x)⇒G(x))     False"
   ]
  },
  {
   "cell_type": "markdown",
   "metadata": {},
   "source": [
    "2.(1)tautology :this is p⇒(q⇒p) If it is False.we need p is true and q⇒p is False. but\n",
    "q⇒p must be true because p is true.\n",
    "  (2)contradiction:this is ￢p⇒(q⇒p).it is False when p is False and q is True\n",
    "  (3)contradiction:this is (q⇒p).it is False when q is True and p is False "
   ]
  },
  {
   "cell_type": "markdown",
   "metadata": {},
   "source": [
    "3.(1)True\n",
    "  (2)True When (A ∧ B)is true,we have A is True and B is True.So (A ⇔ B) must be True\n",
    "  (3)True If (A ⇒ C) ∨ (B ⇒ C)is False, we need C is False ,A and B are True.\n",
    " But (A ∧ B) ⇒ C is also False.\n",
    "  (4)True If (A ∨ B)is false,(A ∨ B) ∧ (￢C ∨￢D ∨ E)is alse false\n",
    "  (5)False If (A∨B),￢C is True ￢D ∨ E is False. Left is True but Right is False"
   ]
  },
  {
   "cell_type": "markdown",
   "metadata": {},
   "source": [
    "4.P∧(Q⇒R)⇒S\n",
    "=(P∧(┐Q∨R))⇒S\n",
    "=┐(P∧(┐Q∨R))∨S\n",
    "=┐P∨┐(┐Q∨R)∨S\n",
    "=┐P∨(Q∧┐R)∨S\n",
    "=(┐P∨S∨Q)∧(┐P∨S∨┐R)"
   ]
  },
  {
   "cell_type": "markdown",
   "metadata": {},
   "source": [
    "5.Assume Even(x):x is a even,Prime(x):x is a prime\n",
    "(1).∀xEven(x)⇔ ∃x x=y+y\n",
    "(2).∀xPrime(x)⇔∃y,z x=y*z⇒y=x∨z=x\n",
    "(3).∀xEven(x)⇔∃y,z x=y+z∧Prime(y)∧Prime(z)"
   ]
  }
 ],
 "metadata": {
  "kernelspec": {
   "display_name": "Python 3",
   "language": "python",
   "name": "python3"
  },
  "language_info": {
   "codemirror_mode": {
    "name": "ipython",
    "version": 3
   },
   "file_extension": ".py",
   "mimetype": "text/x-python",
   "name": "python",
   "nbconvert_exporter": "python",
   "pygments_lexer": "ipython3",
   "version": "3.6.5"
  }
 },
 "nbformat": 4,
 "nbformat_minor": 2
}
