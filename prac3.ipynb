{
 "cells": [
  {
   "cell_type": "markdown",
   "metadata": {},
   "source": [
    "1.a.ture. The second player is also perfectly rational and fully observable, so the first player can predict its movements.\n",
    "b.false. Beaceuse it is a partially observable.Knowing what move the second player will make is a additional information.\n",
    "c.False. Backgammon is a game of chance."
   ]
  },
  {
   "cell_type": "markdown",
   "metadata": {},
   "source": [
    "2.constraint: The conditions that the task needs to meet.\n",
    "backtracking search：Look for the solution to the problem during the search attempt. When it is found that the solution condition is not satisfied, return \"backtracking\" and try another path.\n",
    "arc consistency: A simple form of propagation makes sure all arcs are consistent.\n",
    "backjumping：In backtracking algorithms, backjumping is a technique that reduces search space, therefore increasing efficiency. While backtracking always goes up one level in the search tree when all values for a variable have been tested, backjumping may go up more levels. \n",
    "min-conflicts:Initial placement allows for conflicts, consider a conflict point, move it to the location with the least conflict, repeat until there is no conflict."
   ]
  },
  {
   "cell_type": "markdown",
   "metadata": {},
   "source": [
    "3.The most constrained variable is earlier to fail. The least constraining value have the most chances to avoid conflict.So they are good heuristic"
   ]
  },
  {
   "cell_type": "markdown",
   "metadata": {},
   "source": [
    "4.procedure work bad.\n",
    "The player make choices that are based on full knowledge of future dice rolls.\n",
    "alpha-beta is not relationship to the moves."
   ]
  },
  {
   "cell_type": "code",
   "execution_count": 12,
   "metadata": {},
   "outputs": [
    {
     "name": "stdout",
     "output_type": "stream",
     "text": [
      "请猜测随机数为1-9：5\n",
      "猜测过小:8\n",
      "猜测成功\n"
     ]
    }
   ],
   "source": [
    "# Programming Excercises 1\n",
    "import random\n",
    "num= random.randint(1,9)\n",
    "n= int(input(\"请猜测随机数为1-9：\"))\n",
    "while n!=num:\n",
    "    if n>num:\n",
    "        n=int(input('猜测过大:'))\n",
    "    else:\n",
    "        n=int(input('猜测过小:'))\n",
    "print('猜测成功')"
   ]
  },
  {
   "cell_type": "code",
   "execution_count": 6,
   "metadata": {},
   "outputs": [
    {
     "name": "stdout",
     "output_type": "stream",
     "text": [
      "请猜测第一个随机数为1-9：1\n",
      "请猜测第二个随机数为1-9：2\n",
      "请猜测第三个随机数为1-9：3\n",
      "['Only the number is correct', 'Only the number is correct', 'error']\n",
      "请猜测第一个随机数为1-9：2\n",
      "请猜测第二个随机数为1-9：1\n",
      "请猜测第三个随机数为1-9：2\n",
      "['Absolutely right', 'Only the number is correct', 'Only the number is correct']\n",
      "请猜测第一个随机数为1-9：2\n",
      "请猜测第二个随机数为1-9：4\n",
      "请猜测第三个随机数为1-9：1\n",
      "['Absolutely right', 'error', 'Absolutely right']\n",
      "请猜测第一个随机数为1-9：2\n",
      "请猜测第二个随机数为1-9：5\n",
      "请猜测第三个随机数为1-9：1\n",
      "['Absolutely right', 'error', 'Absolutely right']\n",
      "请猜测第一个随机数为1-9：2\n",
      "请猜测第二个随机数为1-9：6\n",
      "请猜测第三个随机数为1-9：1\n",
      "['Absolutely right', 'error', 'Absolutely right']\n",
      "请猜测第一个随机数为1-9：2\n",
      "请猜测第二个随机数为1-9：7\n",
      "请猜测第三个随机数为1-9：1\n",
      "['Absolutely right', 'error', 'Absolutely right']\n",
      "请猜测第一个随机数为1-9：2\n",
      "请猜测第二个随机数为1-9：8\n",
      "请猜测第三个随机数为1-9：1\n",
      "['Absolutely right', 'error', 'Absolutely right']\n",
      "请猜测第一个随机数为1-9：2\n",
      "请猜测第二个随机数为1-9：9\n",
      "请猜测第三个随机数为1-9：1\n",
      "猜测成功\n"
     ]
    }
   ],
   "source": [
    "# Programming Excercises 2\n",
    "import random\n",
    "num= [random.randint(1,9),random.randint(1,9),random.randint(1,9)]\n",
    "\n",
    "n=[int(input(\"请猜测第一个随机数为1-9：\")),int(input(\"请猜测第二个随机数为1-9：\")),int(input(\"请猜测第三个随机数为1-9：\"))]\n",
    "\n",
    "while n!=num:\n",
    "    f=[]\n",
    "    for i in range(0,3):\n",
    "        if n[i] == num[i]:\n",
    "            f.append('Absolutely right')\n",
    "        elif n[i] in num:\n",
    "            f.append('Only the number is correct')\n",
    "        else:\n",
    "            f.append('error')\n",
    "    print(f)\n",
    "    n=[int(input(\"请猜测第一个随机数为1-9：\")),int(input(\"请猜测第二个随机数为1-9：\")),int(input(\"请猜测第三个随机数为1-9：\"))]\n",
    "print(\"猜测成功\")"
   ]
  },
  {
   "cell_type": "code",
   "execution_count": 6,
   "metadata": {},
   "outputs": [],
   "source": [
    "# Programming Excercises 3\n",
    "import tkinter           \n",
    "gui = tkinter.Tk()\n",
    "gui.title(\"myGUI\")\n",
    "l1= ['C','python','php','html','SQL','java']\n",
    "l2= ['CSS','jQuery','Bootstrap']\n",
    "list1= Listbox(gui)          \n",
    "list2= Listbox(gui)\n",
    "for l in l1:             \n",
    "    list1.insert(0,l)\n",
    "for l in l2:         \n",
    "    list2.insert(0,l)\n",
    "list1.pack()                \n",
    "list2.pack()\n",
    "gui.mainloop()              "
   ]
  },
  {
   "cell_type": "code",
   "execution_count": null,
   "metadata": {},
   "outputs": [],
   "source": [
    "# Programming Excercises 4\n",
    "import tkinter\n",
    "def buttonCallBack(event):\n",
    "    global label\n",
    "    global reset\n",
    "    num=event.widget['text']\n",
    "    if num=='AC':\n",
    "        label['text']=\"0\"\n",
    "        return\n",
    "    if num=='DEL':\n",
    "        label['text']=label['text'][:-1]\n",
    "        return\n",
    "    if num in \"=\":\n",
    "        label['text']=str(eval(label['text']))\n",
    "        return \n",
    "    l=label['text']\n",
    "    if label['text']=='0':\n",
    "        label['text']=num\n",
    "        return\n",
    "    label['text']+=num\n",
    "root=tkinter.Tk()\n",
    "root.title(\"Calculator\")\n",
    "\n",
    "label=Label(root,text=\"0\",background=\"white\",anchor=\"e\")\n",
    "label['width']=30\n",
    "label['height']=2\n",
    "label.grid(row=1,columnspan=4,sticky=W)\n",
    "showText=\"123+456-789*0.=/\"\n",
    "for i in range(4):\n",
    "    for j in range(4):\n",
    "        b=Button(root,text=showText[i*4+j],width=7)\n",
    "        b.grid(row=i+2,column=j)\n",
    "        b.bind(\"<Button-1>\",buttonCallBack)\n",
    "b=Button(root,text='DEL',width=7)\n",
    "b.grid(row=6,column=0)\n",
    "b.bind(\"<Button-1>\",buttonCallBack)\n",
    "b=Button(root,text='AC',width=7)\n",
    "b.grid(row=6,column=1)\n",
    "b.bind(\"<Button-1>\",buttonCallBack)\n",
    "b=Button(root,text='(',width=7)\n",
    "b.grid(row=6,column=2)\n",
    "b.bind(\"<Button-1>\",buttonCallBack)\n",
    "b=Button(root,text=')',width=7)\n",
    "b.grid(row=6,column=3)\n",
    "b.bind(\"<Button-1>\",buttonCallBack)\n",
    "root.mainloop()"
   ]
  },
  {
   "cell_type": "code",
   "execution_count": 10,
   "metadata": {},
   "outputs": [],
   "source": [
    "from tkinter import *\n",
    "import matplotlib\n",
    "matplotlib.use('Agg')\n",
    "import random\n",
    "import time\n",
    "class Ball:\n",
    "  def __init__(self, canvas, paddle, color):\n",
    "    self.canvas = canvas\n",
    "    self.paddle = paddle\n",
    "    self.id = canvas.create_oval(10, 10, 25, 25, fill=color)\n",
    "    self.canvas.move(self.id, 245, 100)\n",
    "    startx = [-3, -2, -1, 1, 2, 3]\n",
    "    random.shuffle(startx)\n",
    "    self.x = startx[0]\n",
    "    self.y = -3\n",
    "    self.canvas_height = self.canvas.winfo_height()\n",
    "    self.canvas_width = self.canvas.winfo_width()\n",
    "    self.hit_bottom = False\n",
    "  def draw(self):\n",
    "    self.canvas.move(self.id, self.x, self.y)\n",
    "    pos = self.canvas.coords(self.id)#top-left bottom-right\n",
    "    if (pos[1] <= 0 or self.hit_paddle(pos) == True):\n",
    "      self.y = -self.y\n",
    "    if (pos[0] <= 0 or pos[2] >= self.canvas_width):\n",
    "      self.x = -self.x\n",
    "    if (pos[3] >= self.canvas_height):\n",
    "      self.hit_bottom = True\n",
    "  def hit_paddle(self, pos):\n",
    "    paddle_pos = self.canvas.coords(self.paddle.id)\n",
    "    if (pos[2] >= paddle_pos[0] and pos[0] <= paddle_pos[2]):\n",
    "      if (pos[3] >= paddle_pos[1] and pos[3] <= paddle_pos[3]):\n",
    "        return True\n",
    "    return False\n",
    "class Paddle:\n",
    "  def __init__(self, canvas, color):\n",
    "    self.canvas = canvas\n",
    "    self.id = canvas.create_rectangle(0, 0, 100, 10, fill = color)\n",
    "    self.x = 0\n",
    "    self.canvas.move(self.id, 200, 300)\n",
    "    self.canvas_width = self.canvas.winfo_width()\n",
    "    self.canvas.bind_all(\"<Key-Left>\", self.turn_left)\n",
    "    self.canvas.bind_all(\"<Key-Right>\", self.turn_right)\n",
    "  def draw(self):\n",
    "    pos = self.canvas.coords(self.id)\n",
    "    if (pos[0] + self.x >= 0 and pos[2] + self.x <= self.canvas_width):\n",
    "      self.canvas.move(self.id, self.x, 0)\n",
    "    #self.x = 0\n",
    "  def turn_left(self, event):\n",
    "    self.x = -4\n",
    "  def turn_right(self, event):\n",
    "    self.x = 4\n",
    "tk = Tk()\n",
    "tk.title(\"Game\")\n",
    "tk.resizable(0, 0)#not resizable\n",
    "tk.wm_attributes(\"-topmost\", 1)#at top\n",
    "canvas = Canvas(tk, width = 500, height = 500, bd = 0, highlightthickness = 0)\n",
    "canvas.pack()\n",
    "tk.update()#init\n",
    "paddle = Paddle(canvas, 'blue')\n",
    "ball = Ball(canvas, paddle, 'red')\n",
    "while 1:\n",
    "    if (ball.hit_bottom == False):\n",
    "        ball.draw()\n",
    "        paddle.draw()\n",
    "    try:\n",
    "        tk.update_idletasks()\n",
    "        tk.update()\n",
    "        time.sleep(0.01)\n",
    "    except:\n",
    "        break\n"
   ]
  }
 ],
 "metadata": {
  "kernelspec": {
   "display_name": "Python 3",
   "language": "python",
   "name": "python3"
  },
  "language_info": {
   "codemirror_mode": {
    "name": "ipython",
    "version": 3
   },
   "file_extension": ".py",
   "mimetype": "text/x-python",
   "name": "python",
   "nbconvert_exporter": "python",
   "pygments_lexer": "ipython3",
   "version": "3.6.5"
  }
 },
 "nbformat": 4,
 "nbformat_minor": 2
}
